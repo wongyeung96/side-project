{
 "cells": [
  {
   "cell_type": "code",
   "execution_count": 32,
   "id": "4f82708b",
   "metadata": {},
   "outputs": [
    {
     "name": "stdout",
     "output_type": "stream",
     "text": [
      "평균: 15.3 \n",
      " 중앙값: 15.5 \n",
      " 최빈값: [12] \n",
      " 분산: 9.81 \n",
      " 표준편차: 3.132091952673165\n",
      "17.75 12.5 5.25\n"
     ]
    }
   ],
   "source": [
    "import numpy as np\n",
    "from scipy import stats\n",
    "\n",
    "df = pd.DataFrame([12, 15, 14, 10, 18, 20, 12, 17, 16, 19])\n",
    "\n",
    "print(\"평균:\",np.mean(df),'\\n', \n",
    "      \"중앙값:\",np.median(df), '\\n',\n",
    "      \"최빈값:\",stats.mode(df)[0],'\\n',\n",
    "      \"분산:\",np.var(df)[0], '\\n',\n",
    "      \"표준편차:\",np.std(df)[0])\n",
    "\n",
    "\n",
    "Q3 = df[0].quantile(0.75)\n",
    "Q1 = df[0].quantile(0.25)\n",
    "IQR = Q3-Q1\n",
    "print(Q3,Q1,IQR)"
   ]
  },
  {
   "cell_type": "code",
   "execution_count": null,
   "id": "0bdeb697",
   "metadata": {},
   "outputs": [],
   "source": []
  }
 ],
 "metadata": {
  "kernelspec": {
   "display_name": "Python 3 (ipykernel)",
   "language": "python",
   "name": "python3"
  },
  "language_info": {
   "codemirror_mode": {
    "name": "ipython",
    "version": 3
   },
   "file_extension": ".py",
   "mimetype": "text/x-python",
   "name": "python",
   "nbconvert_exporter": "python",
   "pygments_lexer": "ipython3",
   "version": "3.9.12"
  }
 },
 "nbformat": 4,
 "nbformat_minor": 5
}
